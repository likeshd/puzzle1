{
  "nbformat": 4,
  "nbformat_minor": 0,
  "metadata": {
    "colab": {
      "provenance": [],
      "authorship_tag": "ABX9TyPkcv07W4CKVDmwhqiuvKbl",
      "include_colab_link": true
    },
    "kernelspec": {
      "name": "python3",
      "display_name": "Python 3"
    },
    "language_info": {
      "name": "python"
    }
  },
  "cells": [
    {
      "cell_type": "markdown",
      "metadata": {
        "id": "view-in-github",
        "colab_type": "text"
      },
      "source": [
        "<a href=\"https://colab.research.google.com/github/likeshd/puzzles/blob/main/Guess%20Correct%20Number.ipynb\" target=\"_parent\"><img src=\"https://colab.research.google.com/assets/colab-badge.svg\" alt=\"Open In Colab\"/></a>"
      ]
    },
    {
      "cell_type": "code",
      "execution_count": 3,
      "metadata": {
        "id": "I8z5AKu8V7y2"
      },
      "outputs": [],
      "source": [
        "# Guess Correct Number"
      ]
    },
    {
      "cell_type": "code",
      "source": [
        "import random\n",
        "\n",
        "cpu = random.randint(1,100)\n",
        "counter = 0\n",
        "while True:\n",
        "  num = int(input(\"Enter choice =\"))\n",
        "  print(num)\n",
        "  if num == cpu:\n",
        "    print(\"Correct Number\")\n",
        "    break\n",
        "  elif num < cpu:\n",
        "    print(\"number is greater than your choice\")\n",
        "  elif num > cpu:\n",
        "    print(\"number is less than your choice\")\n",
        "  else:\n",
        "    print(\"Out of Range\")\n",
        "  counter += 1\n",
        "  if counter == 5:\n",
        "    print(\"your number of tries are over. actual number was =\",cpu)\n",
        "    break\n",
        "\n",
        "\n",
        "\n",
        "\n"
      ],
      "metadata": {
        "colab": {
          "base_uri": "https://localhost:8080/"
        },
        "id": "nB-HuPLmWDfp",
        "outputId": "760e2d75-6633-40f2-dfd1-62b77c153713"
      },
      "execution_count": 14,
      "outputs": [
        {
          "output_type": "stream",
          "name": "stdout",
          "text": [
            "Enter choice =23\n",
            "23\n",
            "number is greater than your choice\n",
            "Enter choice =56\n",
            "56\n",
            "number is greater than your choice\n",
            "Enter choice =98\n",
            "98\n",
            "number is less than your choice\n",
            "Enter choice =80\n",
            "80\n",
            "number is greater than your choice\n",
            "Enter choice =90\n",
            "90\n",
            "number is less than your choice\n",
            "your number of tries are over. actual number was = 83\n"
          ]
        }
      ]
    }
  ]
}